{
 "cells": [
  {
   "cell_type": "markdown",
   "metadata": {
    "gradient": {
     "editing": false
    }
   },
   "source": [
    "# **Gradient Python SDK Tutorial**\n",
    "\n",
    "This Notebook provides a step-by-step walkthrough of the Gradient Python SDK.  This library allows you to programmatically interact with Gradient from within a Jupyter Notebook environment (like this tutorial) or from within any python project. The Gradient Python SDK supplements the Gradient CLI functionality and UI with the added ability to automate actions and pipelines.\n",
    "\n",
    "In this example, we'll be training a convolutional neural network to recognize handwritten digits using the canonical MNIST dataset and TensorFlow.  This demo walks through training a model, storing it in Gradient, deploying it as a RESTful API endpoint, and then making a prediction.  The purpose of the tutorial is to demonstrate how simple it is to build a machine learning pipeline from start to finish.  The code in this example lives in this GitHub repo: https://github.com/Paperspace/mnist-sample.git\n",
    "\n",
    "_Note: This example takes approximately 10 mintues to run._"
   ]
  },
  {
   "cell_type": "markdown",
   "metadata": {
    "gradient": {
     "editing": false
    }
   },
   "source": [
    "# Getting started\n",
    "## Import the SDK Client"
   ]
  },
  {
   "cell_type": "code",
   "execution_count": null,
   "metadata": {
    "gradient": {}
   },
   "outputs": [],
   "source": [
    "# Import the SDK Client from the Gradient package (already installed in this Notebook)\n",
    "# If using a new Notebook, install Gradient first with \"pip install gradient\"\n",
    "from gradient import sdk_client"
   ]
  },
  {
   "cell_type": "markdown",
   "metadata": {
    "gradient": {
     "editing": false
    }
   },
   "source": [
    "## Connect your account\n",
    "You must create an [API key](https://docs.paperspace.com/gradient/get-started/install-the-cli#obtaining-an-api-key) in your account"
   ]
  },
  {
   "cell_type": "code",
   "execution_count": null,
   "metadata": {
    "gradient": {}
   },
   "outputs": [],
   "source": [
    "# Insert your API key between the quotes\n",
    "api_key = \"\""
   ]
  },
  {
   "cell_type": "markdown",
   "metadata": {
    "gradient": {
     "editing": false
    }
   },
   "source": [
    "## Instantiate the SDK clients"
   ]
  },
  {
   "cell_type": "code",
   "execution_count": null,
   "metadata": {
    "gradient": {}
   },
   "outputs": [],
   "source": [
    "client = sdk_client.SdkClient(api_key)\n",
    "\n",
    "# Or access them all from a single client\n",
    "deployment_client = sdk_client.DeploymentsClient(api_key)\n",
    "models_client = sdk_client.ModelsClient(api_key)\n",
    "jobs_client = sdk_client.JobsClient(api_key)\n",
    "projects_client = sdk_client.ProjectsClient(api_key)\n",
    "experiment_client = sdk_client.ExperimentsClient(api_key)"
   ]
  },
  {
   "cell_type": "markdown",
   "metadata": {
    "gradient": {
     "editing": false
    }
   },
   "source": [
    "## Create a Project\n",
    "\n",
    "[Projects](https://docs.paperspace.com/gradient/projects/about) are a collection of your Experiments, Models, and Deployments. You can have an unlimited number of Projects within your account.  "
   ]
  },
  {
   "cell_type": "code",
   "execution_count": null,
   "metadata": {
    "gradient": {}
   },
   "outputs": [],
   "source": [
    "# Create a project. We'll call this project MNIST since we're working with the MNIST dataset\n",
    "project_id = client.projects.create(\"MNIST\")"
   ]
  },
  {
   "cell_type": "markdown",
   "metadata": {
    "gradient": {
     "editing": false
    }
   },
   "source": [
    "# Training\n",
    "\n",
    "There are two types of experiments in Gradient:\n",
    "- [Singlenode](https://docs.paperspace.com/gradient/experiments/run-experiments-cli#creating-a-singlenode-experiment-using-the-cli): Train on a single instance\n",
    "- [Multinode](https://docs.paperspace.com/gradient/experiments/multi-node-training): Train on multiple instances with distributed training\n",
    "\n",
    "In this example, we recommend choosing one or the other.  After the model is done training, the subsequent steps of capturing the model and deploying it as an API endpoint will be the same."
   ]
  },
  {
   "cell_type": "markdown",
   "metadata": {
    "gradient": {
     "editing": false
    }
   },
   "source": [
    "## Run a basic singlenode experiment\n",
    "### (See below for a distributed training example)"
   ]
  },
  {
   "cell_type": "code",
   "execution_count": null,
   "metadata": {
    "gradient": {}
   },
   "outputs": [],
   "source": [
    "# Create a dictionary of parameters for running an experiment\n",
    "env = {\n",
    "    \"EPOCHS_EVAL\":5,\n",
    "    \"TRAIN_EPOCHS\":10,\n",
    "    \"MAX_STEPS\":1000,\n",
    "    \"EVAL_SECS\":10\n",
    "}\n",
    "\n",
    "parameters = { \n",
    "    \"name\": \"mnist\",\n",
    "    \"project_id\": (project_id),\n",
    "    \"container\": \"tensorflow/tensorflow:1.13.1-gpu-py3\",\n",
    "    \"machine_type\": \"P4000\",\n",
    "    \"command\": \"pip install -r requirements.txt && python mnist.py\",\n",
    "    \"workspace_url\": \"https://github.com/Paperspace/mnist-sample.git\", #note: you can specify a git repo or a specific git commit, a local directory, or even an S3 bucket\n",
    "    \"model_path\": \"/storage/models/tutorial-mnist/\",\n",
    "    \"model_type\": \"Tensorflow\"\n",
    "}\n",
    "\n",
    "# Pass dictionary into experiments client\n",
    "experiment_id = client.experiments.run_single_node(**parameters)\n",
    "\n",
    "# Display the experiment details\n",
    "print(client.experiments.get(experiment_id))\n",
    "\n",
    "# Output the path so you can open the experiment in the UI\n",
    "print(\"https://www.paperspace.com/console/\" + project_id + \"/experiments/\" + experiment_id)"
   ]
  },
  {
   "cell_type": "markdown",
   "metadata": {},
   "source": [
    "## Scale up with distributed training\n",
    "##### Notice how few changes are required to go from a _singlenode experiment_ to a _multinode experiment_"
   ]
  },
  {
   "cell_type": "code",
   "execution_count": null,
   "metadata": {
    "gradient": {}
   },
   "outputs": [],
   "source": [
    "# Create a dictionary of parameters for running an experiment\n",
    "env = {\n",
    "    \"EPOCHS_EVAL\":5,\n",
    "    \"TRAIN_EPOCHS\":10,\n",
    "    \"MAX_STEPS\":1000,\n",
    "    \"EVAL_SECS\":10\n",
    "}\n",
    "\n",
    "multi_node_parameters = { \n",
    "    \"name\": \"multinode_mnist\",\n",
    "    \"project_id\": (project_id),\n",
    "    \"experiment_type_id\": 2,\n",
    "    \"worker_container\": \"tensorflow/tensorflow:1.13.1-gpu-py3\",\n",
    "    \"worker_machine_type\": \"K80\",\n",
    "    \"worker_command\": \"pip install -r requirements.txt && python mnist.py\",\n",
    "    \"experiment_env\": env,\n",
    "    \"worker_count\": 2,\n",
    "    \"parameter_server_container\": \"tensorflow/tensorflow:1.13.1-gpu-py3\",\n",
    "    \"parameter_server_machine_type\": \"K80\",\n",
    "    \"parameter_server_command\": \"pip install -r requirements.txt && python mnist.py\",\n",
    "    \"parameter_server_count\": 1,\n",
    "    \"workspace_url\": \"https://github.com/Paperspace/mnist-sample.git\", #note: you can specify a git repo or a specific git commit, a local directory, or even an S3 bucket\n",
    "    \"model_path\": \"/storage/models/tutorial-mnist/\",\n",
    "    \"model_type\": \"Tensorflow\"\n",
    "}\n",
    "\n",
    "# Pass dictionary into experiments client\n",
    "experiment_id = client.experiments.run_multi_node(**multi_node_parameters)\n",
    "client.experiments.get(experiment_id)\n",
    "\n",
    "# Display the experiment details\n",
    "print(client.experiments.get(experiment_id))\n",
    "\n",
    "# Output the path so you can open the experiment in the UI\n",
    "print(\"https://www.paperspace.com/console/\" + project_id + \"/experiments/\" + experiment_id)"
   ]
  },
  {
   "cell_type": "markdown",
   "metadata": {},
   "source": [
    "### Optional: Watch the state of the Experiment \n",
    "#### You can also navigate to the UI to see the state"
   ]
  },
  {
   "cell_type": "code",
   "execution_count": null,
   "metadata": {
    "gradient": {}
   },
   "outputs": [],
   "source": [
    "from gradient import constants\n",
    "# Stream the state of the experiment\n",
    "print(\"Watching state of experiment\")\n",
    "state = \"\"\n",
    "while state != \"running\":\n",
    "    new_state = constants.ExperimentState.get_state_str(client.experiments.get(experiment_id).state)\n",
    "    if new_state != state:\n",
    "        print(\"state: \"+new_state)\n",
    "        state = new_state"
   ]
  },
  {
   "cell_type": "markdown",
   "metadata": {},
   "source": [
    "### Optional: Stream the logs within Jupyter\n",
    "#### You can also navigate to the UI to view the logs"
   ]
  },
  {
   "cell_type": "code",
   "execution_count": null,
   "metadata": {
    "gradient": {},
    "scrolled": true
   },
   "outputs": [],
   "source": [
    "log_streamer = client.experiments.yield_logs(experiment_id)\n",
    "# Create a log stream & print all logs for the duration of experiment\n",
    "print(\"Streaming logs of experiment\")\n",
    "try:\n",
    "    while True:\n",
    "        print(log_streamer.send(None))\n",
    "except:\n",
    "    print(\"done streaming logs\")"
   ]
  },
  {
   "cell_type": "markdown",
   "metadata": {},
   "source": [
    "## Inspect your model"
   ]
  },
  {
   "cell_type": "code",
   "execution_count": null,
   "metadata": {
    "gradient": {}
   },
   "outputs": [],
   "source": [
    "model = client.models.list(experiment_id = experiment_id)\n",
    "print(model)"
   ]
  },
  {
   "cell_type": "markdown",
   "metadata": {},
   "source": [
    "#### View the accuracy"
   ]
  },
  {
   "cell_type": "code",
   "execution_count": null,
   "metadata": {
    "gradient": {}
   },
   "outputs": [],
   "source": [
    "model[0].summary['accuracy']['result']"
   ]
  },
  {
   "cell_type": "markdown",
   "metadata": {},
   "source": [
    "# Serve your model as an API endpoint\n",
    "### Create Deployment"
   ]
  },
  {
   "cell_type": "code",
   "execution_count": null,
   "metadata": {
    "gradient": {}
   },
   "outputs": [],
   "source": [
    "deploy_param = {\n",
    "    \"deployment_type\" : \"Tensorflow Serving on K8s\",\n",
    "    \"image_url\": \"tensorflow/serving:latest-gpu\",\n",
    "    \"name\": \"sdk_tutorial\",\n",
    "    \"machine_type\": \"K80\",\n",
    "    \"instance_count\": 2,\n",
    "    \"model_id\" : model[0].id\n",
    "}\n",
    "mnist = client.deployments.create(**deploy_param)"
   ]
  },
  {
   "cell_type": "markdown",
   "metadata": {},
   "source": [
    "### Start the Deployment"
   ]
  },
  {
   "cell_type": "code",
   "execution_count": null,
   "metadata": {
    "gradient": {}
   },
   "outputs": [],
   "source": [
    "client.deployments.start(mnist)"
   ]
  },
  {
   "cell_type": "markdown",
   "metadata": {},
   "source": [
    "### List your Deployments"
   ]
  },
  {
   "cell_type": "code",
   "execution_count": null,
   "metadata": {
    "gradient": {}
   },
   "outputs": [],
   "source": [
    "deployment = client.deployments.list(model_id=model[0].id)\n",
    "deployment"
   ]
  },
  {
   "cell_type": "markdown",
   "metadata": {},
   "source": [
    "### Get the endpoint"
   ]
  },
  {
   "cell_type": "code",
   "execution_count": null,
   "metadata": {
    "gradient": {}
   },
   "outputs": [],
   "source": [
    "print(deployment)\n",
    "print(\"Endpoint: \"+deployment[0].endpoint)"
   ]
  },
  {
   "cell_type": "markdown",
   "metadata": {},
   "source": [
    "# Make a prediction\n",
    "#### Run the prerequisite inference code"
   ]
  },
  {
   "cell_type": "code",
   "execution_count": null,
   "metadata": {
    "gradient": {}
   },
   "outputs": [],
   "source": [
    "import matplotlib\n",
    "import matplotlib.pyplot as plt\n",
    "import numpy as np\n",
    "from PIL import Image as pilimage\n",
    "import requests\n",
    "\n",
    "def get_image_from_drive(path):\n",
    "    # Load the image\n",
    "    image = pilimage.open(path)\n",
    "    image = image.convert('L')\n",
    "    image = np.resize(image, (28,28,1))\n",
    "    image = np.array(image)\n",
    "    image = image.reshape(28,28)\n",
    "    return image\n",
    "\n",
    "def show_selected_image(image):\n",
    "    fig = plt.figure()\n",
    "    plt.subplot(1, 1, 1)\n",
    "    plt.tight_layout()\n",
    "    plt.imshow(image, cmap='gray', interpolation='none')\n",
    "    plt.xticks([])\n",
    "    plt.yticks([])\n",
    "    plt.show()\n",
    "\n",
    "\n",
    "def make_vector(image):\n",
    "    vector = []\n",
    "    for item in image.tolist():\n",
    "        vector.extend(item)\n",
    "    return vector\n",
    "\n",
    "\n",
    "def make_prediction_request(image, prediction_url):\n",
    "    vector = make_vector(image)\n",
    "    json = {\n",
    "        \"inputs\": [vector]\n",
    "    }\n",
    "    response = requests.post(prediction_url, json=json)\n",
    "\n",
    "    print('HTTP Response %s' % response.status_code)\n",
    "    print(response.text)"
   ]
  },
  {
   "cell_type": "markdown",
   "metadata": {},
   "source": [
    "#### Load and display the image to validate the results"
   ]
  },
  {
   "cell_type": "code",
   "execution_count": null,
   "metadata": {
    "gradient": {}
   },
   "outputs": [],
   "source": [
    "image = get_image_from_drive('mnist_5.png')\n",
    "show_selected_image(image)"
   ]
  },
  {
   "cell_type": "markdown",
   "metadata": {},
   "source": [
    "### Make the prediction!"
   ]
  },
  {
   "cell_type": "code",
   "execution_count": null,
   "metadata": {
    "gradient": {}
   },
   "outputs": [],
   "source": [
    "make_prediction_request(image, deployment[0].endpoint)"
   ]
  },
  {
   "cell_type": "markdown",
   "metadata": {},
   "source": [
    "#### One more time 😀  "
   ]
  },
  {
   "cell_type": "code",
   "execution_count": null,
   "metadata": {
    "gradient": {}
   },
   "outputs": [],
   "source": [
    "image = get_image_from_drive('mnist_3.png')\n",
    "show_selected_image(image)\n",
    "make_prediction_request(image, deployment[0].endpoint)"
   ]
  }
 ],
 "metadata": {
  "kernelspec": {
   "display_name": "Python 3",
   "language": "python",
   "name": "python3"
  },
  "language_info": {
   "codemirror_mode": {
    "name": "ipython",
    "version": 3
   },
   "file_extension": ".py",
   "mimetype": "text/x-python",
   "name": "python",
   "nbconvert_exporter": "python",
   "pygments_lexer": "ipython3",
   "version": "3.6.8"
  }
 },
 "nbformat": 4,
 "nbformat_minor": 4
}
